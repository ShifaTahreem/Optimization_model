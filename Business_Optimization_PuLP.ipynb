{
 "cells": [
  {
   "cell_type": "markdown",
   "id": "28e54805",
   "metadata": {},
   "source": [
    "# Business Optimization Problem using Linear Programming (PuLP)\n",
    "\n",
    "## Problem Statement\n",
    "A furniture company makes **Chairs** and **Tables**.\n",
    "\n",
    "- **Profit per Chair** = ₹40  \n",
    "- **Profit per Table** = ₹60  \n",
    "- Each **Chair** needs **2 hours of carpentry** and **1 hour of painting**  \n",
    "- Each **Table** needs **3 hours of carpentry** and **2 hours of painting**  \n",
    "- Available resources:  \n",
    "  - Carpentry: 100 hours  \n",
    "  - Painting: 80 hours  \n",
    "\n",
    "**Goal:** Maximize profit using Linear Programming.\n"
   ]
  },
  {
   "cell_type": "code",
   "execution_count": null,
   "id": "904b848e",
   "metadata": {},
   "outputs": [],
   "source": [
    "# Install PuLP if not already installed\n",
    "# pip install pulp\n",
    "\n",
    "from pulp import LpMaximize, LpProblem, LpVariable, LpStatus, value\n",
    "\n",
    "# Create the Linear Programming Model\n",
    "model = LpProblem(name=\"furniture-production\", sense=LpMaximize)\n",
    "\n",
    "# Decision Variables\n",
    "chairs = LpVariable(name=\"Chairs\", lowBound=0, cat='Integer')\n",
    "tables = LpVariable(name=\"Tables\", lowBound=0, cat='Integer')\n",
    "\n",
    "# Objective Function: Maximize profit\n",
    "model += 40 * chairs + 60 * tables, \"Total_Profit\"\n",
    "\n",
    "# Constraints\n",
    "model += (2 * chairs + 3 * tables <= 100, \"Carpentry_Hours\")\n",
    "model += (1 * chairs + 2 * tables <= 80, \"Painting_Hours\")\n",
    "\n",
    "# Solve the model\n",
    "model.solve()\n",
    "\n",
    "# Results\n",
    "print(f\"Status: {LpStatus[model.status]}\")\n",
    "print(f\"Optimal number of Chairs: {chairs.varValue}\")\n",
    "print(f\"Optimal number of Tables: {tables.varValue}\")\n",
    "print(f\"Maximum Profit: ₹{value(model.objective)}\")\n"
   ]
  },
  {
   "cell_type": "markdown",
   "id": "04a2f778",
   "metadata": {},
   "source": [
    "## Insights from the Model\n",
    "\n",
    "- The model calculates the optimal number of chairs and tables to maximize profit.\n",
    "- Based on the given constraints, the solution ensures we do not exceed the available carpentry and painting hours.\n",
    "- The output shows the exact production quantities and the maximum profit achievable.\n"
   ]
  }
 ],
 "metadata": {},
 "nbformat": 4,
 "nbformat_minor": 5
}